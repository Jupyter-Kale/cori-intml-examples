{
 "cells": [
  {
   "cell_type": "code",
   "execution_count": null,
   "metadata": {},
   "outputs": [],
   "source": [
    "# System imports\n",
    "import os\n",
    "import sys\n",
    "import functools as ft\n",
    "\n",
    "# 3rd-party imports\n",
    "import numpy as np\n",
    "import keras\n",
    "from ipyparallel.datapub import publish_data\n",
    "import ipyparallel as ipp\n",
    "\n",
    "# Local imports\n",
    "import ipcluster_magics\n",
    "from mnist import load_data\n",
    "from updatingplot import UpdatingPlot\n",
    "from mlextras import build_and_train\n",
    "from paramspan import ParamSpanWidget"
   ]
  },
  {
   "cell_type": "code",
   "execution_count": 1,
   "metadata": {},
   "outputs": [],
   "source": [
    "%load_ext autoreload\n",
    "%autoreload 2"
   ]
  },
  {
   "cell_type": "code",
   "execution_count": 2,
   "metadata": {
    "scrolled": false
   },
   "outputs": [
    {
     "name": "stdout",
     "output_type": "stream",
     "text": [
      "launch\n",
      "Script:\n",
      "\n",
      "# Load modules\n",
      "mod=\"tensorflow/intel-1.8.0-py36\"\n",
      "module load \"$mod\"\n",
      "echo \"Loaded module $mod\"\n",
      "export PATH=$PYTHONUSERBASE/bin:$PATH\n",
      "\n",
      "ipengine\n",
      "echo \"Started engine.\"\n",
      "\n",
      "EOF\n",
      "batch\n",
      "Script:\n",
      "\n",
      "# Load modules\n",
      "mod=\"tensorflow/intel-1.8.0-py36\"\n",
      "module load \"$mod\"\n",
      "echo \"Loaded module $mod\"\n",
      "export PATH=$PYTHONUSERBASE/bin:$PATH\n",
      "\n",
      "# Start controller\n",
      "myip=$(ip addr show ipogif0 | grep '10\\.' | awk '{print $2}' | awk -F'/' '{print $1}')\n",
      "echo \"My ip is '$myip'.\"\n",
      "ipcontroller --ip=\"$myip\" &\n",
      "echo \"Started controller\"\n",
      "\n",
      "# Start engines\n",
      "srun -n 2 bash /global/cscratch1/sd/oevans/.ipclaunch3eo9kfs8\n",
      "echo \"Started engines.\"\n",
      "\n",
      "EOF\n",
      "salloc -J ipyparallel -q interactive -N 2 -t 30:00 -C haswell bash /global/cscratch1/sd/oevans/.ipcbatchh_8ylopw\n",
      "salloc: Pending job allocation 12748373\n",
      "salloc: job 12748373 queued and waiting for resources\n",
      "salloc: job 12748373 has been allocated resources\n",
      "salloc: Granted job allocation 12748373\n",
      "salloc: Waiting for resource configuration\n",
      "salloc: Nodes nid000[73-74] are ready for job\n",
      "\u0007Loaded module tensorflow/intel-1.8.0-py36\n",
      "My ip is '10.128.1.214'.\n",
      "Started controller\n",
      "Loaded module tensorflow/intel-1.8.0-py36\n",
      "Loaded module tensorflow/intel-1.8.0-py36\n",
      "2018-05-24 11:14:17.486 [IPControllerApp] Hub listening on tcp://10.128.1.214:47596 for registration.\n",
      "2018-05-24 11:14:17.487 [IPControllerApp] Hub using DB backend: 'DictDB'\n",
      "2018-05-24 11:14:17.740 [IPControllerApp] hub::created hub\n",
      "2018-05-24 11:14:17.740 [IPControllerApp] writing connection info to /global/u2/o/oevans/.ipython/profile_default/security/ipcontroller-client.json\n",
      "2018-05-24 11:14:17.746 [IPControllerApp] writing connection info to /global/u2/o/oevans/.ipython/profile_default/security/ipcontroller-engine.json\n",
      "2018-05-24 11:14:17.750 [IPControllerApp] task::using Python leastload Task scheduler\n",
      "2018-05-24 11:14:17.750 [IPControllerApp] Heartmonitor started\n",
      "2018-05-24 11:14:17.758 [IPControllerApp] Creating pid file: /global/u2/o/oevans/.ipython/profile_default/pid/ipcontroller.pid\n",
      "2018-05-24 11:14:17.766 [scheduler] Scheduler started [leastload]\n",
      "2018-05-24 11:14:17.767 [IPControllerApp] client::client b'\\x00k\\x8bEg' requested 'connection_request'\n",
      "2018-05-24 11:14:17.767 [IPControllerApp] client::client [b'\\x00k\\x8bEg'] connected\n",
      "2018-05-24 11:14:18.083 [IPEngineApp] Loading url_file '/global/u2/o/oevans/.ipython/profile_default/security/ipcontroller-engine.json'\n",
      "2018-05-24 11:14:18.094 [IPEngineApp] Registering with controller at tcp://10.128.1.214:47596\n",
      "2018-05-24 11:14:18.099 [IPControllerApp] client::client b'cbc0d3c6-a4977fb819a98bdf92334a5f' requested 'registration_request'\n",
      "2018-05-24 11:14:18.202 [IPEngineApp] Starting to monitor the heartbeat signal from the hub every 3010 ms.\n",
      "2018-05-24 11:14:18.300 [IPEngineApp] Completed registration with id 0\n",
      "2018-05-24 11:14:22.790 [IPEngineApp] Loading url_file '/global/u2/o/oevans/.ipython/profile_default/security/ipcontroller-engine.json'\n",
      "2018-05-24 11:14:22.810 [IPEngineApp] Registering with controller at tcp://10.128.1.214:47596\n",
      "2018-05-24 11:14:22.814 [IPControllerApp] client::client b'cd7c9478-d95c117fdd57133e4d1d7f7a' requested 'registration_request'\n",
      "2018-05-24 11:14:22.931 [IPEngineApp] Starting to monitor the heartbeat signal from the hub every 3010 ms.\n",
      "2018-05-24 11:14:22.941 [IPEngineApp] Completed registration with id 1\n",
      "2018-05-24 11:14:23.752 [IPControllerApp] registration::finished registering engine 0:cbc0d3c6-a4977fb819a98bdf92334a5f\n",
      "2018-05-24 11:14:23.753 [IPControllerApp] engine::Engine Connected: 0\n",
      "2018-05-24 11:14:26.755 [IPControllerApp] registration::finished registering engine 1:cd7c9478-d95c117fdd57133e4d1d7f7a\n",
      "2018-05-24 11:14:26.755 [IPControllerApp] engine::Engine Connected: 1\n"
     ]
    }
   ],
   "source": [
    "# Start IPyParallel Cluster\n",
    "import ipcluster_magics\n",
    "%ipcluster -m tensorflow/intel-1.8.0-py36 -N 2"
   ]
  },
  {
   "cell_type": "code",
   "execution_count": null,
   "metadata": {},
   "outputs": [],
   "source": [
    "# Connect to IPP controller\n",
    "c = ipp.Client()\n",
    "lv = c.load_balanced_view()\n",
    "dv = c.direct_view()\n",
    "print(c.ids)"
   ]
  },
  {
   "cell_type": "code",
   "execution_count": null,
   "metadata": {},
   "outputs": [],
   "source": [
    "# Make sure tensorflow modules are available remotely\n",
    "def set_path(path):\n",
    "    global sys\n",
    "    import sys\n",
    "    sys.path = path\n",
    "dv.apply(set_path, sys.path)\n",
    "workdir = os.path.expanduser('~/cori-intml-examples')\n",
    "%px cd \"$workdir\""
   ]
  },
  {
   "cell_type": "code",
   "execution_count": null,
   "metadata": {},
   "outputs": [],
   "source": [
    "x_train, y_train, x_test, y_test = load_data()\n",
    "\n",
    "print('x_train shape:', x_train.shape)\n",
    "print('x_test shape:', x_test.shape)\n",
    "print('y_train shape:', y_train.shape)\n",
    "print('y_test shape:', y_test.shape)"
   ]
  },
  {
   "cell_type": "code",
   "execution_count": null,
   "metadata": {},
   "outputs": [],
   "source": [
    "# Training config\n",
    "# Hold these parameters constant\n",
    "batch_size = 128\n",
    "n_epochs = 16\n",
    "valid_frac = 0.17\n",
    "checkpoint_dir = '/global/cscratch1/sd/oevans/cori-interactive-dl/mnist-hpo'\n",
    "checkpoint_file = os.path.join(checkpoint_dir, 'model_single.h5')\n",
    "n_samples = 1000\n",
    "\n",
    "const = dict(\n",
    "    checkpoint_file=checkpoint_file, verbose=0,\n",
    "    x_train=x_train[:n_samples], \n",
    "    y_train=y_train[:n_samples],\n",
    "    valid_frac=valid_frac,\n",
    "    batch_size=batch_size, n_epochs=n_epochs,\n",
    ")"
   ]
  },
  {
   "cell_type": "code",
   "execution_count": null,
   "metadata": {},
   "outputs": [],
   "source": [
    "run_training = ft.partial(\n",
    "    build_and_train,\n",
    "    **const\n",
    ")\n",
    "\n",
    "plot_metrics = ft.partial(\n",
    "    UpdatingPlot, \n",
    "    y=['loss', 'acc'],\n",
    "    xlim=[0, n_epochs],\n",
    "    xlabel='epochs',\n",
    "    ylabel='training metrics'\n",
    ")"
   ]
  },
  {
   "cell_type": "markdown",
   "metadata": {},
   "source": [
    "# Single Parameter Set"
   ]
  },
  {
   "cell_type": "code",
   "execution_count": null,
   "metadata": {},
   "outputs": [],
   "source": [
    "h1 = 16\n",
    "h2 = 16\n",
    "h3 = 32\n",
    "dropout=0.5\n",
    "optimizer = 'Adadelta'\n",
    "\n",
    "n_samples = 1000\n",
    "\n",
    "opts = dict(\n",
    "    h1=h1, h2=h2, h3=h3,\n",
    "    dropout=dropout, \n",
    "    optimizer=optimizer\n",
    ")"
   ]
  },
  {
   "cell_type": "raw",
   "metadata": {},
   "source": [
    "ar = lv.apply(run_training, **opts)\n",
    "up = plot_metrics(ar)\n",
    "up"
   ]
  },
  {
   "cell_type": "markdown",
   "metadata": {},
   "source": [
    "# Several Parameter Sets"
   ]
  },
  {
   "cell_type": "code",
   "execution_count": null,
   "metadata": {},
   "outputs": [],
   "source": [
    "n_hpo_trials = 8\n",
    "grid_h1 = np.random.choice([4, 8, 16, 32, 64], size=n_hpo_trials)\n",
    "grid_h2 = np.random.choice([4, 8, 16, 32, 64], size=n_hpo_trials)\n",
    "grid_h3 = np.random.choice([8, 16, 32, 64, 128], size=n_hpo_trials)\n",
    "grid_dropout = np.random.rand(n_hpo_trials)\n",
    "grid_optimizer = np.random.choice(['Adadelta', 'Adam', 'Nadam'], size=n_hpo_trials)"
   ]
  },
  {
   "cell_type": "code",
   "execution_count": null,
   "metadata": {},
   "outputs": [],
   "source": [
    "psw = ps.ParamSpanWidget(run_training, plot_metrics)\n",
    "\n",
    "psw.set_params(\n",
    "    h1=grid_h1,\n",
    "    h2=grid_h2,\n",
    "    h3=grid_h3,\n",
    "    dropout=grid_dropout,\n",
    "    optimizer=grid_optimizer\n",
    ")\n",
    "\n",
    "psw.submit_computations()\n",
    "\n",
    "psw"
   ]
  },
  {
   "cell_type": "code",
   "execution_count": null,
   "metadata": {},
   "outputs": [],
   "source": []
  }
 ],
 "metadata": {
  "kernelspec": {
   "display_name": "Python [conda env:kelp]",
   "language": "python",
   "name": "conda-env-kelp-py"
  },
  "language_info": {
   "codemirror_mode": {
    "name": "ipython",
    "version": 3
   },
   "file_extension": ".py",
   "mimetype": "text/x-python",
   "name": "python",
   "nbconvert_exporter": "python",
   "pygments_lexer": "ipython3",
   "version": "3.6.3"
  }
 },
 "nbformat": 4,
 "nbformat_minor": 2
}
