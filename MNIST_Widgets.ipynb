{
 "cells": [
  {
   "cell_type": "code",
   "execution_count": 12,
   "metadata": {},
   "outputs": [],
   "source": [
    "# System imports\n",
    "import os\n",
    "import sys\n",
    "import functools as ft\n",
    "\n",
    "# 3rd-party imports\n",
    "import numpy as np\n",
    "import keras\n",
    "from ipyparallel.datapub import publish_data\n",
    "import ipyparallel as ipp\n",
    "\n",
    "# Local imports\n",
    "from mnist import load_data\n",
    "from updatingplot import UpdatingPlot\n",
    "from mlextras import build_and_train\n",
    "import paramspan as ps\n",
    "#from paramspan import ParamSpanWidget"
   ]
  },
  {
   "cell_type": "code",
   "execution_count": 13,
   "metadata": {},
   "outputs": [
    {
     "name": "stdout",
     "output_type": "stream",
     "text": [
      "[0, 1]\n"
     ]
    }
   ],
   "source": [
    "# Set up engines\n",
    "c = ipp.Client()\n",
    "lv = c.load_balanced_view()\n",
    "dv = c.direct_view()\n",
    "print(c.ids)"
   ]
  },
  {
   "cell_type": "code",
   "execution_count": 14,
   "metadata": {},
   "outputs": [
    {
     "data": {
      "text/plain": [
       "<AsyncResult: set_path>"
      ]
     },
     "execution_count": 14,
     "metadata": {},
     "output_type": "execute_result"
    }
   ],
   "source": [
    "# Make sure tensorflow modules are available remotely\n",
    "def set_path(path):\n",
    "    global sys\n",
    "    import sys\n",
    "    sys.path = path\n",
    "dv.apply(set_path, sys.path)"
   ]
  },
  {
   "cell_type": "code",
   "execution_count": 4,
   "metadata": {},
   "outputs": [
    {
     "name": "stdout",
     "output_type": "stream",
     "text": [
      "x_train shape: (60000, 28, 28, 1)\n",
      "x_test shape: (10000, 28, 28, 1)\n",
      "y_train shape: (60000, 10)\n",
      "y_test shape: (10000, 10)\n"
     ]
    }
   ],
   "source": [
    "x_train, y_train, x_test, y_test = load_data()\n",
    "\n",
    "print('x_train shape:', x_train.shape)\n",
    "print('x_test shape:', x_test.shape)\n",
    "print('y_train shape:', y_train.shape)\n",
    "print('y_test shape:', y_test.shape)"
   ]
  },
  {
   "cell_type": "code",
   "execution_count": 5,
   "metadata": {},
   "outputs": [],
   "source": [
    "# Training config\n",
    "# Hold these parameters constant\n",
    "batch_size = 128\n",
    "n_epochs = 16\n",
    "valid_frac = 0.17\n",
    "checkpoint_dir = '/global/cscratch1/sd/oevans/cori-interactive-dl/mnist-hpo'\n",
    "checkpoint_file = os.path.join(checkpoint_dir, 'model_single.h5')\n",
    "n_samples = 1000\n",
    "\n",
    "const = dict(\n",
    "    checkpoint_file=checkpoint_file, verbose=0,\n",
    "    x_train=x_train[:n_samples], \n",
    "    y_train=y_train[:n_samples],\n",
    "    valid_frac=valid_frac,\n",
    "    batch_size=batch_size, n_epochs=n_epochs,\n",
    ")"
   ]
  },
  {
   "cell_type": "code",
   "execution_count": 6,
   "metadata": {},
   "outputs": [],
   "source": [
    "run_training = ft.partial(\n",
    "    build_and_train,\n",
    "    **const\n",
    ")\n",
    "\n",
    "plot_metrics = ft.partial(\n",
    "    UpdatingPlot, \n",
    "    y=['loss', 'acc'],\n",
    "    xlim=[0, n_epochs],\n",
    "    xlabel='epochs',\n",
    "    ylabel='training metrics'\n",
    ")"
   ]
  },
  {
   "cell_type": "markdown",
   "metadata": {},
   "source": [
    "# Single Parameter Set"
   ]
  },
  {
   "cell_type": "code",
   "execution_count": 21,
   "metadata": {},
   "outputs": [],
   "source": [
    "h1 = 16\n",
    "h2 = 16\n",
    "h3 = 32\n",
    "dropout=0.5\n",
    "optimizer = 'Adadelta'\n",
    "\n",
    "n_samples = 1000\n",
    "\n",
    "opts = dict(\n",
    "    h1=h1, h2=h2, h3=h3,\n",
    "    dropout=dropout, \n",
    "    optimizer=optimizer\n",
    ")"
   ]
  },
  {
   "cell_type": "raw",
   "metadata": {},
   "source": [
    "ar = lv.apply(run_training, **opts)\n",
    "up = plot_metrics(ar)\n",
    "up"
   ]
  },
  {
   "cell_type": "markdown",
   "metadata": {},
   "source": [
    "# Several Parameter Sets"
   ]
  },
  {
   "cell_type": "code",
   "execution_count": 22,
   "metadata": {},
   "outputs": [],
   "source": [
    "n_hpo_trials = 4\n",
    "grid_h1 = np.random.choice([4, 8, 16, 32, 64], size=n_hpo_trials)\n",
    "grid_h2 = np.random.choice([4, 8, 16, 32, 64], size=n_hpo_trials)\n",
    "grid_h3 = np.random.choice([8, 16, 32, 64, 128], size=n_hpo_trials)\n",
    "grid_dropout = np.random.rand(n_hpo_trials)\n",
    "grid_optimizer = np.random.choice(['Adadelta', 'Adam', 'Nadam'], size=n_hpo_trials)"
   ]
  },
  {
   "cell_type": "code",
   "execution_count": 23,
   "metadata": {},
   "outputs": [
    {
     "data": {
      "application/vnd.jupyter.widget-view+json": {
       "model_id": "7d0482351cb1447ba5f3d22779cbfbc2",
       "version_major": 2,
       "version_minor": 0
      },
      "text/plain": [
       "ParamSpanWidget(children=(Output(layout=Layout(border='1px solid', height='500px', overflow_x='scroll', overfl…"
      ]
     },
     "metadata": {},
     "output_type": "display_data"
    }
   ],
   "source": [
    "psw = ps.ParamSpanWidget(run_training, plot_metrics)\n",
    "\n",
    "psw.set_params(\n",
    "    h1=grid_h1,\n",
    "    h2=grid_h2,\n",
    "    h3=grid_h3,\n",
    "    dropout=grid_dropout,\n",
    "    optimizer=grid_optimizer\n",
    ")\n",
    "\n",
    "psw.submit_computations()\n",
    "\n",
    "psw"
   ]
  },
  {
   "cell_type": "code",
   "execution_count": null,
   "metadata": {},
   "outputs": [],
   "source": []
  }
 ],
 "metadata": {
  "kernelspec": {
   "display_name": "Python 3 (TF)",
   "language": "python",
   "name": "tf-intel-1.8.0-py36"
  },
  "language_info": {
   "codemirror_mode": {
    "name": "ipython",
    "version": 3
   },
   "file_extension": ".py",
   "mimetype": "text/x-python",
   "name": "python",
   "nbconvert_exporter": "python",
   "pygments_lexer": "ipython3",
   "version": "3.6.4"
  }
 },
 "nbformat": 4,
 "nbformat_minor": 2
}
