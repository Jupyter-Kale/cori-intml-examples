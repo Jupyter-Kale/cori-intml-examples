{
 "cells": [
  {
   "cell_type": "markdown",
   "metadata": {},
   "source": [
    "## Setup an IPyParallel cluster"
   ]
  },
  {
   "cell_type": "code",
   "execution_count": 1,
   "metadata": {},
   "outputs": [],
   "source": [
    "import ipcluster_magics"
   ]
  },
  {
   "cell_type": "code",
   "execution_count": 2,
   "metadata": {},
   "outputs": [],
   "source": [
    "job_name = \"isc_ihpc_mnist\"\n",
    "nodes = 4\n",
    "module = \"python/3.6-anaconda-4.4\"\n",
    "conda_env = \"/global/cscratch1/sd/sfarrell/conda/isc-ihpc\""
   ]
  },
  {
   "cell_type": "code",
   "execution_count": 3,
   "metadata": {
    "scrolled": true
   },
   "outputs": [
    {
     "name": "stdout",
     "output_type": "stream",
     "text": [
      "salloc: Pending job allocation 13251549\n",
      "salloc: job 13251549 queued and waiting for resources\n",
      "salloc: job 13251549 has been allocated resources\n",
      "salloc: Granted job allocation 13251549\n",
      "salloc: Waiting for resource configuration\n",
      "salloc: Nodes nid00[036,108-110] are ready for job\n",
      "\u0007"
     ]
    }
   ],
   "source": [
    "%ipcluster -m $module -e $conda_env -N $nodes -J $job_name -t 1:00:00"
   ]
  },
  {
   "cell_type": "markdown",
   "metadata": {},
   "source": [
    "## Connect a client to the running IPP cluster"
   ]
  },
  {
   "cell_type": "code",
   "execution_count": 4,
   "metadata": {},
   "outputs": [
    {
     "name": "stdout",
     "output_type": "stream",
     "text": [
      "checking ipcontroller...\n",
      "Waiting for connection file: /global/u2/s/sfarrell/.ipython/profile_default/security/ipcontroller-client.json\n",
      "(\"Connection file '/global/u2/s/sfarrell/.ipython/profile_default/security/ipcontroller-client.json' not found.\\nYou have attempted to connect to an IPython Cluster but no Controller could be found.\\nPlease double-check your configuration and ensure that a cluster is running.\",)\n",
      "ipcontroller is not running yet, waiting 5 seconds before retry...\n",
      "checking ipcontroller...\n",
      "Waiting for connection file: /global/u2/s/sfarrell/.ipython/profile_default/security/ipcontroller-client.json\n",
      "(\"Connection file '/global/u2/s/sfarrell/.ipython/profile_default/security/ipcontroller-client.json' not found.\\nYou have attempted to connect to an IPython Cluster but no Controller could be found.\\nPlease double-check your configuration and ensure that a cluster is running.\",)\n",
      "ipcontroller is not running yet, waiting 5 seconds before retry...\n",
      "2018-06-20 17:26:30.734 [scheduler] Scheduler started [leastload]\n",
      "checking ipcontroller...\n",
      "ipcontroller is running\n",
      "engines are not registered yet with controller, waiting 10 seconds before retry...\n",
      "engines are not registered yet with controller, waiting 10 seconds before retry...\n",
      "engines are not registered yet with controller, waiting 10 seconds before retry...\n",
      "[]\n"
     ]
    }
   ],
   "source": [
    "# Connect to IPP controller\n",
    "import time\n",
    "import ipyparallel as ipp\n",
    "\n",
    "c = None\n",
    "wait_time = 5\n",
    "retries = 3\n",
    "while retries > 0:\n",
    "    print(\"checking ipcontroller...\")\n",
    "    try:\n",
    "        c = ipp.Client()\n",
    "        print(\"ipcontroller is running\")\n",
    "        break\n",
    "    except Exception as e:\n",
    "        print(e.args)\n",
    "        print(\"ipcontroller is not running yet, waiting {} seconds before retry...\".format(wait_time))\n",
    "        time.sleep(wait_time)\n",
    "        retries -= 1\n",
    "\n",
    "wait_time = 10\n",
    "retries = 3\n",
    "while c is not None and retries > 0:\n",
    "    if len(c.ids) == 0:\n",
    "        print(\"engines are not registered yet with controller, waiting {} seconds before retry...\".format(wait_time))\n",
    "        time.sleep(wait_time)\n",
    "        retries -= 1\n",
    "    elif len(c.ids) < nodes:\n",
    "        print(\"not all engines have registered, waiting {} seconds...\".format(wait_time))\n",
    "        time.sleep(wait_time)\n",
    "    else:\n",
    "        break\n",
    "\n",
    "if c is not None:\n",
    "    lv = c.load_balanced_view()\n",
    "    dv = c.direct_view()\n",
    "    print(c.ids)"
   ]
  },
  {
   "cell_type": "code",
   "execution_count": 7,
   "metadata": {},
   "outputs": [
    {
     "data": {
      "text/plain": [
       "[0, 1, 2, 3]"
      ]
     },
     "execution_count": 7,
     "metadata": {},
     "output_type": "execute_result"
    }
   ],
   "source": [
    "c.ids"
   ]
  },
  {
   "cell_type": "markdown",
   "metadata": {},
   "source": [
    "## Interactively run multiple parameter sets"
   ]
  },
  {
   "cell_type": "code",
   "execution_count": 8,
   "metadata": {},
   "outputs": [
    {
     "name": "stderr",
     "output_type": "stream",
     "text": [
      "/global/cscratch1/sd/sfarrell/conda/isc-ihpc/lib/python3.6/site-packages/h5py/__init__.py:36: FutureWarning: Conversion of the second argument of issubdtype from `float` to `np.floating` is deprecated. In future, it will be treated as `np.float64 == np.dtype(float).type`.\n",
      "  from ._conv import register_converters as _register_converters\n",
      "Using TensorFlow backend.\n"
     ]
    },
    {
     "name": "stdout",
     "output_type": "stream",
     "text": [
      "x_train shape: (60000, 28, 28, 1)\n",
      "x_test shape: (10000, 28, 28, 1)\n",
      "y_train shape: (60000, 10)\n",
      "y_test shape: (10000, 10)\n"
     ]
    }
   ],
   "source": [
    "import mnist\n",
    "x_train, y_train, x_test, y_test = mnist.load_data()\n",
    "\n",
    "print('x_train shape:', x_train.shape)\n",
    "print('x_test shape:', x_test.shape)\n",
    "print('y_train shape:', y_train.shape)\n",
    "print('y_test shape:', y_test.shape)"
   ]
  },
  {
   "cell_type": "code",
   "execution_count": 9,
   "metadata": {},
   "outputs": [],
   "source": [
    "# Training config\n",
    "# Hold these parameters constant\n",
    "import os\n",
    "\n",
    "checkpoint_dir = '/global/cscratch1/sd/$USER/cori-interactive-dl/mnist-hpo'\n",
    "n_samples = 1000\n",
    "\n",
    "fixed_params = {\n",
    "    \"verbose\": 0,\n",
    "    \"batch_size\": 128,\n",
    "    \"nthreads\": 8,\n",
    "    \"n_epochs\": 32,\n",
    "    \"valid_frac\": 0.17,\n",
    "#    \"checkpoint_file\": os.path.join(os.path.expandvars(checkpoint_dir), 'model_single.h5'),\n",
    "    \"x_train\": x_train[:n_samples], \n",
    "    \"y_train\": y_train[:n_samples]\n",
    "}"
   ]
  },
  {
   "cell_type": "code",
   "execution_count": 10,
   "metadata": {},
   "outputs": [],
   "source": [
    "import numpy as np\n",
    "\n",
    "n_hpo_trials = 8\n",
    "grid_h1 = np.random.choice([4, 8, 16, 32, 64], size=n_hpo_trials)\n",
    "grid_h2 = np.random.choice([4, 8, 16, 32, 64], size=n_hpo_trials)\n",
    "grid_h3 = np.random.choice([8, 16, 32, 64, 128], size=n_hpo_trials)\n",
    "grid_dropout = np.random.rand(n_hpo_trials)\n",
    "grid_optimizer = np.random.choice(['Adadelta', 'Adam', 'Nadam'], size=n_hpo_trials)"
   ]
  },
  {
   "cell_type": "code",
   "execution_count": 11,
   "metadata": {
    "scrolled": false
   },
   "outputs": [
    {
     "data": {
      "application/vnd.jupyter.widget-view+json": {
       "model_id": "f8ecc101fbe8492ab18429d75577d31b",
       "version_major": 2,
       "version_minor": 0
      },
      "text/plain": [
       "ParamSpanWidget(children=(Output(layout=Layout(border='1px solid', height='600px', overflow_x='scroll', overfl…"
      ]
     },
     "metadata": {},
     "output_type": "display_data"
    }
   ],
   "source": [
    "import functools as ft\n",
    "from mlextras import build_and_train\n",
    "from hpo_widgets import ModelPlot, ParamSpanWidget\n",
    "\n",
    "run_training = ft.partial(build_and_train, **fixed_params)\n",
    "plot_metrics = ft.partial(\n",
    "    ModelPlot,\n",
    "    y=['loss', 'acc', 'val_loss', 'val_acc'],\n",
    "    xlim=[0, fixed_params[\"n_epochs\"]],\n",
    "    xlabel='epochs',\n",
    "    ylabel='training metrics'\n",
    ")\n",
    "\n",
    "hpo_params = dict(\n",
    "    h1=grid_h1,\n",
    "    h2=grid_h2,\n",
    "    h3=grid_h3,\n",
    "    dropout=grid_dropout,\n",
    "    optimizer=grid_optimizer\n",
    ")\n",
    "\n",
    "psw = ParamSpanWidget(\n",
    "    run_training, \n",
    "    plot_metrics, \n",
    "    hpo_params)\n",
    "\n",
    "psw.submit_computations()\n",
    "\n",
    "psw"
   ]
  },
  {
   "cell_type": "code",
   "execution_count": 13,
   "metadata": {},
   "outputs": [
    {
     "data": {
      "application/vnd.jupyter.widget-view+json": {
       "model_id": "9be557da3b324302bbbba9f4e27c927d",
       "version_major": 2,
       "version_minor": 0
      },
      "text/plain": [
       "Output(layout=Layout(border='1px solid', height='500px', overflow_x='scroll', overflow_y='scroll'), outputs=({…"
      ]
     },
     "metadata": {},
     "output_type": "display_data"
    }
   ],
   "source": [
    "psw.debug"
   ]
  },
  {
   "cell_type": "code",
   "execution_count": null,
   "metadata": {},
   "outputs": [],
   "source": [
    "from IPython.display import display\n",
    "for m in psw.model_plots:\n",
    "    display(m.debug)"
   ]
  },
  {
   "cell_type": "markdown",
   "metadata": {},
   "source": [
    "## Look at additional model details"
   ]
  },
  {
   "cell_type": "code",
   "execution_count": 14,
   "metadata": {},
   "outputs": [
    {
     "name": "stdout",
     "output_type": "stream",
     "text": [
      "{'after': [],\n",
      " 'completed': datetime.datetime(2018, 6, 21, 0, 31, 50, 180434, tzinfo=tzutc()),\n",
      " 'data': {'epoch': 31, 'logs': {}, 'status': 'Ended Training'},\n",
      " 'engine_id': 1,\n",
      " 'engine_uuid': '11669646-4876e31016d03eea6b1765cb',\n",
      " 'error': None,\n",
      " 'execute_input': None,\n",
      " 'execute_result': None,\n",
      " 'follow': [],\n",
      " 'msg_id': '6fe20358-268d85d60ef1a91997ccf6b6',\n",
      " 'outputs': [],\n",
      " 'received': datetime.datetime(2018, 6, 21, 0, 31, 50, 670085, tzinfo=tzutc()),\n",
      " 'started': datetime.datetime(2018, 6, 21, 0, 30, 21, 500093, tzinfo=tzutc()),\n",
      " 'status': 'ok',\n",
      " 'stderr': '/global/cscratch1/sd/sfarrell/conda/isc-ihpc/lib/python3.6/site-packages/h5py/__init__.py:36: '\n",
      "           'FutureWarning: Conversion of the second argument of issubdtype '\n",
      "           'from `float` to `np.floating` is deprecated. In future, it will be '\n",
      "           'treated as `np.float64 == np.dtype(float).type`.\\n'\n",
      "           '  from ._conv import register_converters as _register_converters\\n'\n",
      "           'Using TensorFlow backend.\\n',\n",
      " 'stdout': '',\n",
      " 'submitted': datetime.datetime(2018, 6, 21, 0, 30, 21, 270911, tzinfo=tzutc())}\n",
      "{'after': [],\n",
      " 'completed': datetime.datetime(2018, 6, 21, 0, 31, 42, 247151, tzinfo=tzutc()),\n",
      " 'data': {'epoch': 31, 'logs': {}, 'status': 'Ended Training'},\n",
      " 'engine_id': 2,\n",
      " 'engine_uuid': 'f5f7ac99-c8cd22e4b68b46d4dec16171',\n",
      " 'error': None,\n",
      " 'execute_input': None,\n",
      " 'execute_result': None,\n",
      " 'follow': [],\n",
      " 'msg_id': 'dc04b277-c596cb0c6e915159ed5378fb',\n",
      " 'outputs': [],\n",
      " 'received': datetime.datetime(2018, 6, 21, 0, 31, 42, 673386, tzinfo=tzutc()),\n",
      " 'started': datetime.datetime(2018, 6, 21, 0, 30, 21, 505191, tzinfo=tzutc()),\n",
      " 'status': 'ok',\n",
      " 'stderr': '/global/cscratch1/sd/sfarrell/conda/isc-ihpc/lib/python3.6/site-packages/h5py/__init__.py:36: '\n",
      "           'FutureWarning: Conversion of the second argument of issubdtype '\n",
      "           'from `float` to `np.floating` is deprecated. In future, it will be '\n",
      "           'treated as `np.float64 == np.dtype(float).type`.\\n'\n",
      "           '  from ._conv import register_converters as _register_converters\\n'\n",
      "           'Using TensorFlow backend.\\n',\n",
      " 'stdout': '',\n",
      " 'submitted': datetime.datetime(2018, 6, 21, 0, 30, 21, 362634, tzinfo=tzutc())}\n",
      "{'after': [],\n",
      " 'completed': datetime.datetime(2018, 6, 21, 0, 31, 38, 835049, tzinfo=tzutc()),\n",
      " 'data': {'epoch': 31, 'logs': {}, 'status': 'Ended Training'},\n",
      " 'engine_id': 3,\n",
      " 'engine_uuid': 'b1e606f4-569a12fe31b3f8908059bf4e',\n",
      " 'error': None,\n",
      " 'execute_input': None,\n",
      " 'execute_result': None,\n",
      " 'follow': [],\n",
      " 'msg_id': '8113a2fa-aa30cca410aa05496bef7cf8',\n",
      " 'outputs': [],\n",
      " 'received': datetime.datetime(2018, 6, 21, 0, 31, 39, 129918, tzinfo=tzutc()),\n",
      " 'started': datetime.datetime(2018, 6, 21, 0, 30, 21, 567753, tzinfo=tzutc()),\n",
      " 'status': 'ok',\n",
      " 'stderr': '/global/cscratch1/sd/sfarrell/conda/isc-ihpc/lib/python3.6/site-packages/h5py/__init__.py:36: '\n",
      "           'FutureWarning: Conversion of the second argument of issubdtype '\n",
      "           'from `float` to `np.floating` is deprecated. In future, it will be '\n",
      "           'treated as `np.float64 == np.dtype(float).type`.\\n'\n",
      "           '  from ._conv import register_converters as _register_converters\\n'\n",
      "           'Using TensorFlow backend.\\n',\n",
      " 'stdout': '',\n",
      " 'submitted': datetime.datetime(2018, 6, 21, 0, 30, 21, 444007, tzinfo=tzutc())}\n",
      "{'after': [],\n",
      " 'completed': datetime.datetime(2018, 6, 21, 0, 31, 51, 754876, tzinfo=tzutc()),\n",
      " 'data': {'epoch': 31, 'logs': {}, 'status': 'Ended Training'},\n",
      " 'engine_id': 0,\n",
      " 'engine_uuid': '4d560ab2-cc975a1f30b7add878b7153e',\n",
      " 'error': None,\n",
      " 'execute_input': None,\n",
      " 'execute_result': None,\n",
      " 'follow': [],\n",
      " 'msg_id': '50e0dbd9-ceddce91abbc7db5a58153ef',\n",
      " 'outputs': [],\n",
      " 'received': datetime.datetime(2018, 6, 21, 0, 31, 52, 340486, tzinfo=tzutc()),\n",
      " 'started': datetime.datetime(2018, 6, 21, 0, 30, 21, 703569, tzinfo=tzutc()),\n",
      " 'status': 'ok',\n",
      " 'stderr': '/global/cscratch1/sd/sfarrell/conda/isc-ihpc/lib/python3.6/site-packages/h5py/__init__.py:36: '\n",
      "           'FutureWarning: Conversion of the second argument of issubdtype '\n",
      "           'from `float` to `np.floating` is deprecated. In future, it will be '\n",
      "           'treated as `np.float64 == np.dtype(float).type`.\\n'\n",
      "           '  from ._conv import register_converters as _register_converters\\n'\n",
      "           'Using TensorFlow backend.\\n',\n",
      " 'stdout': '',\n",
      " 'submitted': datetime.datetime(2018, 6, 21, 0, 30, 21, 598433, tzinfo=tzutc())}\n",
      "{'after': [],\n",
      " 'completed': datetime.datetime(2018, 6, 21, 0, 31, 56, 848626, tzinfo=tzutc()),\n",
      " 'data': {'epoch': 31, 'logs': {}, 'status': 'Ended Training'},\n",
      " 'engine_id': 3,\n",
      " 'engine_uuid': 'b1e606f4-569a12fe31b3f8908059bf4e',\n",
      " 'error': None,\n",
      " 'execute_input': None,\n",
      " 'execute_result': None,\n",
      " 'follow': [],\n",
      " 'msg_id': 'b846e958-452045f715debfead1416e3e',\n",
      " 'outputs': [],\n",
      " 'received': datetime.datetime(2018, 6, 21, 0, 31, 57, 196324, tzinfo=tzutc()),\n",
      " 'started': datetime.datetime(2018, 6, 21, 0, 31, 38, 841237, tzinfo=tzutc()),\n",
      " 'status': 'ok',\n",
      " 'stderr': '',\n",
      " 'stdout': '',\n",
      " 'submitted': datetime.datetime(2018, 6, 21, 0, 30, 21, 724195, tzinfo=tzutc())}\n",
      "{'after': [],\n",
      " 'completed': datetime.datetime(2018, 6, 21, 0, 32, 0, 775675, tzinfo=tzutc()),\n",
      " 'data': {'epoch': 31, 'logs': {}, 'status': 'Ended Training'},\n",
      " 'engine_id': 2,\n",
      " 'engine_uuid': 'f5f7ac99-c8cd22e4b68b46d4dec16171',\n",
      " 'error': None,\n",
      " 'execute_input': None,\n",
      " 'execute_result': None,\n",
      " 'follow': [],\n",
      " 'msg_id': 'ebc3b420-d304245f91eb29d88f0c1f69',\n",
      " 'outputs': [],\n",
      " 'received': datetime.datetime(2018, 6, 21, 0, 32, 0, 799587, tzinfo=tzutc()),\n",
      " 'started': datetime.datetime(2018, 6, 21, 0, 31, 42, 253975, tzinfo=tzutc()),\n",
      " 'status': 'ok',\n",
      " 'stderr': '',\n",
      " 'stdout': '',\n",
      " 'submitted': datetime.datetime(2018, 6, 21, 0, 30, 21, 980791, tzinfo=tzutc())}\n",
      "{'after': [],\n",
      " 'completed': datetime.datetime(2018, 6, 21, 0, 32, 3, 869942, tzinfo=tzutc()),\n",
      " 'data': {'epoch': 31, 'logs': {}, 'status': 'Ended Training'},\n",
      " 'engine_id': 1,\n",
      " 'engine_uuid': '11669646-4876e31016d03eea6b1765cb',\n",
      " 'error': None,\n",
      " 'execute_input': None,\n",
      " 'execute_result': None,\n",
      " 'follow': [],\n",
      " 'msg_id': '18e0c767-424a48e3ccdc2f96265d4c57',\n",
      " 'outputs': [],\n",
      " 'received': datetime.datetime(2018, 6, 21, 0, 32, 4, 3418, tzinfo=tzutc()),\n",
      " 'started': datetime.datetime(2018, 6, 21, 0, 31, 50, 186208, tzinfo=tzutc()),\n",
      " 'status': 'ok',\n",
      " 'stderr': '',\n",
      " 'stdout': '',\n",
      " 'submitted': datetime.datetime(2018, 6, 21, 0, 30, 22, 129931, tzinfo=tzutc())}\n",
      "{'after': [],\n",
      " 'completed': datetime.datetime(2018, 6, 21, 0, 32, 5, 482618, tzinfo=tzutc()),\n",
      " 'data': {'epoch': 31, 'logs': {}, 'status': 'Ended Training'},\n",
      " 'engine_id': 0,\n",
      " 'engine_uuid': '4d560ab2-cc975a1f30b7add878b7153e',\n",
      " 'error': None,\n",
      " 'execute_input': None,\n",
      " 'execute_result': None,\n",
      " 'follow': [],\n",
      " 'msg_id': '626562ae-5ee4ac4b5109921282268464',\n",
      " 'outputs': [],\n",
      " 'received': datetime.datetime(2018, 6, 21, 0, 32, 6, 76406, tzinfo=tzutc()),\n",
      " 'started': datetime.datetime(2018, 6, 21, 0, 31, 51, 760547, tzinfo=tzutc()),\n",
      " 'status': 'ok',\n",
      " 'stderr': '',\n",
      " 'stdout': '',\n",
      " 'submitted': datetime.datetime(2018, 6, 21, 0, 30, 22, 416890, tzinfo=tzutc())}\n"
     ]
    }
   ],
   "source": [
    "import pprint\n",
    "for i in range(len(psw.model_runs)):\n",
    "    pprint.pprint(psw.model_runs[i].metadata)"
   ]
  },
  {
   "cell_type": "markdown",
   "metadata": {},
   "source": [
    "## Release job resources"
   ]
  },
  {
   "cell_type": "markdown",
   "metadata": {},
   "source": [
    "#### Grab the job id for connecting to this cluster"
   ]
  },
  {
   "cell_type": "code",
   "execution_count": null,
   "metadata": {},
   "outputs": [],
   "source": [
    "%%bash -s \"{job_name}\" --out job_id\n",
    "#capture the jobid to a variable\n",
    "squeue -u $USER -n $1 | awk '{if (NR!=1) {printf \"%s\", $1}}'"
   ]
  },
  {
   "cell_type": "markdown",
   "metadata": {},
   "source": [
    "#### Cancel the current job"
   ]
  },
  {
   "cell_type": "code",
   "execution_count": null,
   "metadata": {},
   "outputs": [],
   "source": [
    "%%bash -s \"{job_id}\"\n",
    "scancel $1"
   ]
  }
 ],
 "metadata": {
  "kernelspec": {
   "display_name": "isc-ihpc",
   "language": "python",
   "name": "isc-ihpc"
  },
  "language_info": {
   "codemirror_mode": {
    "name": "ipython",
    "version": 3
   },
   "file_extension": ".py",
   "mimetype": "text/x-python",
   "name": "python",
   "nbconvert_exporter": "python",
   "pygments_lexer": "ipython3",
   "version": "3.6.4"
  }
 },
 "nbformat": 4,
 "nbformat_minor": 2
}
