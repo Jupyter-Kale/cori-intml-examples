{
 "cells": [
  {
   "cell_type": "markdown",
   "metadata": {},
   "source": [
    "# Distributed training of ATLAS RPV CNN Classifier\n",
    "\n",
    "In this notebook, we extend the Train_rpv example to train distributed across nodes\n",
    "using ipyparallel and Horovod.\n",
    "\n",
    "* TODO: improve documentation.\n",
    "* TODO: run on a full Haswell batch node.\n",
    "* TODO: tinker with the TF thread settings."
   ]
  },
  {
   "cell_type": "code",
   "execution_count": 1,
   "metadata": {},
   "outputs": [],
   "source": [
    "# System imports\n",
    "from __future__ import print_function\n",
    "from __future__ import division\n",
    "from __future__ import absolute_import\n",
    "\n",
    "# External imports\n",
    "import ipyparallel as ipp"
   ]
  },
  {
   "cell_type": "markdown",
   "metadata": {},
   "source": [
    "## Connect to ipyparallel cluster"
   ]
  },
  {
   "cell_type": "code",
   "execution_count": 2,
   "metadata": {},
   "outputs": [],
   "source": [
    "# Use default profile for now\n",
    "c = ipp.Client()"
   ]
  },
  {
   "cell_type": "code",
   "execution_count": 3,
   "metadata": {},
   "outputs": [
    {
     "data": {
      "text/plain": [
       "[0, 1, 2, 3]"
      ]
     },
     "execution_count": 3,
     "metadata": {},
     "output_type": "execute_result"
    }
   ],
   "source": [
    "c.ids"
   ]
  },
  {
   "cell_type": "markdown",
   "metadata": {},
   "source": [
    "## Setup the workers"
   ]
  },
  {
   "cell_type": "code",
   "execution_count": 4,
   "metadata": {},
   "outputs": [
    {
     "name": "stdout",
     "output_type": "stream",
     "text": [
      "[stdout:0] MPI rank 3, local rank 0, host nid00027\n",
      "[stdout:1] MPI rank 1, local rank 0, host nid00019\n",
      "[stdout:2] MPI rank 2, local rank 0, host nid00020\n",
      "[stdout:3] MPI rank 0, local rank 0, host nid00018\n"
     ]
    }
   ],
   "source": [
    "%%px\n",
    "\n",
    "from __future__ import print_function\n",
    "from __future__ import division\n",
    "import os\n",
    "import socket\n",
    "\n",
    "import h5py\n",
    "import numpy as np\n",
    "\n",
    "import keras\n",
    "from keras import layers, models, callbacks\n",
    "from keras import backend as K\n",
    "import horovod.keras as hvd\n",
    "\n",
    "#from sklearn import metrics\n",
    "\n",
    "# Initialize horovod\n",
    "hvd.init()\n",
    "print('MPI rank %i, local rank %i, host %s' %\n",
    "      (hvd.rank(), hvd.local_rank(), socket.gethostname()))"
   ]
  },
  {
   "cell_type": "markdown",
   "metadata": {},
   "source": [
    "## Load the data"
   ]
  },
  {
   "cell_type": "code",
   "execution_count": 5,
   "metadata": {},
   "outputs": [],
   "source": [
    "%%px\n",
    "\n",
    "def load_file(file, n_samples):\n",
    "    with h5py.File(file) as f:\n",
    "        data_group = f['all_events']\n",
    "        data = data_group['hist'][:n_samples][:,:,:,None]\n",
    "        labels = data_group['y'][:n_samples]\n",
    "        weights = data_group['weight'][:n_samples]\n",
    "    return data, labels, weights"
   ]
  },
  {
   "cell_type": "code",
   "execution_count": 6,
   "metadata": {},
   "outputs": [
    {
     "name": "stdout",
     "output_type": "stream",
     "text": [
      "[stdout:0] \n",
      "train shape: (1024, 64, 64, 1)\n",
      "valid shape: (1024, 64, 64, 1)\n",
      "test shape:  (1024, 64, 64, 1)\n",
      "[stdout:1] \n",
      "train shape: (1024, 64, 64, 1)\n",
      "valid shape: (1024, 64, 64, 1)\n",
      "test shape:  (1024, 64, 64, 1)\n",
      "[stdout:2] \n",
      "train shape: (1024, 64, 64, 1)\n",
      "valid shape: (1024, 64, 64, 1)\n",
      "test shape:  (1024, 64, 64, 1)\n",
      "[stdout:3] \n",
      "train shape: (1024, 64, 64, 1)\n",
      "valid shape: (1024, 64, 64, 1)\n",
      "test shape:  (1024, 64, 64, 1)\n"
     ]
    }
   ],
   "source": [
    "%%px\n",
    "\n",
    "# Data config\n",
    "n_train = 1024 #64000 #412416\n",
    "n_valid = 1024 #32000 #137471\n",
    "n_test = 1024 #32000 #137471\n",
    "input_dir = '/global/cscratch1/sd/sfarrell/atlas-rpv-images'\n",
    "\n",
    "# Load the data files\n",
    "train_file = os.path.join(input_dir, 'train.h5')\n",
    "valid_file = os.path.join(input_dir, 'val.h5')\n",
    "test_file = os.path.join(input_dir, 'test.h5')\n",
    "train_input, train_labels, train_weights = load_file(train_file, n_train)\n",
    "valid_input, valid_labels, valid_weights = load_file(valid_file, n_valid)\n",
    "test_input, test_labels, test_weights = load_file(test_file, n_test)\n",
    "print('train shape:', train_input.shape)\n",
    "print('valid shape:', valid_input.shape)\n",
    "print('test shape: ', test_input.shape)"
   ]
  },
  {
   "cell_type": "markdown",
   "metadata": {},
   "source": [
    "## Build and train the model"
   ]
  },
  {
   "cell_type": "code",
   "execution_count": 7,
   "metadata": {},
   "outputs": [],
   "source": [
    "%%px\n",
    "\n",
    "def build_model(input_shape,\n",
    "                h1=64, h2=128, h3=256, h4=256, h5=512,\n",
    "                optimizer=keras.optimizers.Adam, lr=0.001):\n",
    "    # Define the NN layers\n",
    "    inputs = layers.Input(shape=input_shape)\n",
    "    h = layers.Conv2D(h1, kernel_size=(3, 3), activation='relu', strides=1, padding='same')(inputs)\n",
    "    h = layers.Conv2D(h2, kernel_size=(3, 3), activation='relu', strides=2, padding='same')(h)\n",
    "    h = layers.Conv2D(h3, kernel_size=(3, 3), activation='relu', strides=1, padding='same')(h)\n",
    "    h = layers.Conv2D(h4, kernel_size=(3, 3), activation='relu', strides=2, padding='same')(h)\n",
    "    h = layers.Flatten()(h)\n",
    "    h = layers.Dense(h5, activation='relu')(h)\n",
    "    outputs = layers.Dense(1, activation='sigmoid')(h)\n",
    "    # Construct the distributed optimizer\n",
    "    opt = optimizer(lr=lr)\n",
    "    opt = hvd.DistributedOptimizer(opt)\n",
    "    # Compile the model\n",
    "    model = models.Model(inputs, outputs, 'RPVClassifier')\n",
    "    model.compile(optimizer=opt,\n",
    "                  loss='binary_crossentropy',\n",
    "                  metrics=['accuracy'])\n",
    "    return model"
   ]
  },
  {
   "cell_type": "code",
   "execution_count": 8,
   "metadata": {},
   "outputs": [
    {
     "name": "stdout",
     "output_type": "stream",
     "text": [
      "[stdout:3] \n",
      "_________________________________________________________________\n",
      "Layer (type)                 Output Shape              Param #   \n",
      "=================================================================\n",
      "input_2 (InputLayer)         (None, 64, 64, 1)         0         \n",
      "_________________________________________________________________\n",
      "conv2d_7 (Conv2D)            (None, 64, 64, 64)        640       \n",
      "_________________________________________________________________\n",
      "conv2d_8 (Conv2D)            (None, 32, 32, 128)       73856     \n",
      "_________________________________________________________________\n",
      "conv2d_9 (Conv2D)            (None, 32, 32, 256)       295168    \n",
      "_________________________________________________________________\n",
      "conv2d_10 (Conv2D)           (None, 16, 16, 256)       590080    \n",
      "_________________________________________________________________\n",
      "flatten_3 (Flatten)          (None, 65536)             0         \n",
      "_________________________________________________________________\n",
      "dense_5 (Dense)              (None, 512)               33554944  \n",
      "_________________________________________________________________\n",
      "dense_6 (Dense)              (None, 1)                 513       \n",
      "=================================================================\n",
      "Total params: 34,515,201\n",
      "Trainable params: 34,515,201\n",
      "Non-trainable params: 0\n",
      "_________________________________________________________________\n"
     ]
    }
   ],
   "source": [
    "%%px\n",
    "\n",
    "# Model config\n",
    "h1, h2, h3, h4, h5 = 64, 128, 256, 256, 512\n",
    "optimizer = keras.optimizers.Adam\n",
    "lr = 0.001 * hvd.size()\n",
    "\n",
    "# Training config\n",
    "batch_size = 64\n",
    "n_epochs = 4\n",
    "use_weights = False\n",
    "\n",
    "# Build the model\n",
    "model = build_model(train_input.shape[1:],\n",
    "                    h1=h1, h2=h2, h3=h3, h4=h4, h5=h5,\n",
    "                    optimizer=optimizer, lr=lr)\n",
    "if hvd.rank() == 0:\n",
    "    model.summary()"
   ]
  },
  {
   "cell_type": "code",
   "execution_count": 9,
   "metadata": {},
   "outputs": [
    {
     "name": "stdout",
     "output_type": "stream",
     "text": [
      "[stdout:0] \n",
      "Train on 1024 samples, validate on 1024 samples\n",
      "Epoch 1/4\n",
      " - 13s - loss: 0.8862 - acc: 0.5684 - val_loss: 0.5119 - val_acc: 0.8359\n",
      "Epoch 2/4\n",
      " - 13s - loss: 0.5145 - acc: 0.7910 - val_loss: 0.3830 - val_acc: 0.8984\n",
      "Epoch 3/4\n",
      " - 12s - loss: 0.3330 - acc: 0.9062 - val_loss: 0.4009 - val_acc: 0.8838\n",
      "Epoch 4/4\n",
      " - 12s - loss: 0.1937 - acc: 0.9248 - val_loss: 0.3835 - val_acc: 0.8936\n",
      "[stdout:1] \n",
      "Train on 1024 samples, validate on 1024 samples\n",
      "Epoch 1/4\n",
      " - 13s - loss: 0.9627 - acc: 0.5811 - val_loss: 0.5126 - val_acc: 0.8291\n",
      "Epoch 2/4\n",
      " - 13s - loss: 0.5226 - acc: 0.8076 - val_loss: 0.3836 - val_acc: 0.8975\n",
      "Epoch 3/4\n",
      " - 13s - loss: 0.3216 - acc: 0.9150 - val_loss: 0.3964 - val_acc: 0.8857\n",
      "Epoch 4/4\n",
      " - 12s - loss: 0.1981 - acc: 0.9238 - val_loss: 0.3828 - val_acc: 0.8936\n",
      "[stdout:2] \n",
      "Train on 1024 samples, validate on 1024 samples\n",
      "Epoch 1/4\n",
      " - 13s - loss: 0.9700 - acc: 0.5869 - val_loss: 0.5123 - val_acc: 0.8291\n",
      "Epoch 2/4\n",
      " - 13s - loss: 0.5172 - acc: 0.8232 - val_loss: 0.3836 - val_acc: 0.8975\n",
      "Epoch 3/4\n",
      " - 13s - loss: 0.3289 - acc: 0.9141 - val_loss: 0.3968 - val_acc: 0.8857\n",
      "Epoch 4/4\n",
      " - 12s - loss: 0.1909 - acc: 0.9287 - val_loss: 0.3832 - val_acc: 0.8936\n",
      "[stdout:3] \n",
      "Train on 1024 samples, validate on 1024 samples\n",
      "Epoch 1/4\n",
      " - 13s - loss: 0.9136 - acc: 0.5811 - val_loss: 0.5123 - val_acc: 0.8291\n",
      "Epoch 2/4\n",
      " - 12s - loss: 0.5155 - acc: 0.8154 - val_loss: 0.3836 - val_acc: 0.8975\n",
      "Epoch 3/4\n",
      " - 13s - loss: 0.3273 - acc: 0.9053 - val_loss: 0.3972 - val_acc: 0.8857\n",
      "Epoch 4/4\n",
      " - 12s - loss: 0.1943 - acc: 0.9287 - val_loss: 0.3837 - val_acc: 0.8936\n"
     ]
    }
   ],
   "source": [
    "%%px\n",
    "\n",
    "# Train the model\n",
    "callbacks = [\n",
    "    # Horovod: broadcast initial variable states from rank 0 to all other processes.\n",
    "    # This is necessary to ensure consistent initialization of all workers when\n",
    "    # training is started with random weights or restored from a checkpoint.\n",
    "    hvd.callbacks.BroadcastGlobalVariablesCallback(0),\n",
    "]\n",
    "fit_args = dict(x=train_input, y=train_labels,\n",
    "                batch_size=batch_size, epochs=n_epochs,\n",
    "                validation_data=(valid_input, valid_labels),\n",
    "                callbacks=callbacks,\n",
    "                verbose=2)\n",
    "if use_weights:\n",
    "    fit_args.update(sample_weight=train_weights,\n",
    "                    validation_data=(valid_input, valid_labels, valid_weights))\n",
    "history = model.fit(**fit_args)"
   ]
  },
  {
   "cell_type": "code",
   "execution_count": 10,
   "metadata": {},
   "outputs": [],
   "source": [
    "# Can I get worker-local variables out?\n",
    "histories = c[:].get('history.history')"
   ]
  },
  {
   "cell_type": "raw",
   "metadata": {},
   "source": [
    "plt.figure(figsize=(9,4))\n",
    "plt.subplot(121)\n",
    "plt.plot(history.epoch, history.history['loss'], label='Training loss')\n",
    "plt.plot(history.epoch, history.history['val_loss'], label='Validation loss')\n",
    "plt.legend(loc=0)\n",
    "plt.subplot(122)\n",
    "plt.plot(history.epoch, history.history['acc'], label='Training accuracy')\n",
    "plt.plot(history.epoch, history.history['val_acc'], label='Validation accuracy')\n",
    "plt.legend(loc=0)\n",
    "plt.tight_layout()"
   ]
  },
  {
   "cell_type": "markdown",
   "metadata": {},
   "source": [
    "## Evaluate on the test set"
   ]
  },
  {
   "cell_type": "code",
   "execution_count": 11,
   "metadata": {},
   "outputs": [
    {
     "name": "stdout",
     "output_type": "stream",
     "text": [
      "[stdout:0] \n",
      "Test loss: 0.48565021017566323\n",
      "Test accuracy: 0.8720703125\n",
      "[stdout:1] \n",
      "Test loss: 0.48467844212427735\n",
      "Test accuracy: 0.873046875\n",
      "[stdout:2] \n",
      "Test loss: 0.48526582261547446\n",
      "Test accuracy: 0.873046875\n",
      "[stdout:3] \n",
      "Test loss: 0.48574708541855216\n",
      "Test accuracy: 0.873046875\n"
     ]
    }
   ],
   "source": [
    "%%px\n",
    "\n",
    "score = model.evaluate(test_input, test_labels, verbose=2)\n",
    "print('Test loss:', score[0])\n",
    "print('Test accuracy:', score[1])"
   ]
  },
  {
   "cell_type": "code",
   "execution_count": 12,
   "metadata": {},
   "outputs": [
    {
     "data": {
      "text/plain": [
       "\u001b[0;31mOut[0:28]: \u001b[0m\n",
       "array([ 0.0359285 ,  0.14070866, -0.03147585, -0.11712615,  0.13835126,\n",
       "        0.04000098, -0.0848937 , -0.04932515,  0.19469474,  0.06563387,\n",
       "       -0.08081567, -0.07108123,  0.00721872,  0.13346985,  0.09964314,\n",
       "       -0.06333202,  0.01039529,  0.04151731,  0.19975036,  0.0468534 ,\n",
       "        0.20597549,  0.05762145, -0.1233936 , -0.00195075, -0.0102873 ,\n",
       "        0.16713418,  0.20150925, -0.07612296, -0.05693804,  0.10351744,\n",
       "        0.13675688,  0.0919622 ,  0.05040056, -0.05369506,  0.15337764,\n",
       "        0.00970458,  0.05666427, -0.06198144,  0.0622775 ,  0.06317747,\n",
       "        0.06043039, -0.01114823, -0.07662099, -0.01320019, -0.10590444,\n",
       "       -0.06452797,  0.12556276,  0.14275475,  0.09189197,  0.0967575 ,\n",
       "       -0.03720548, -0.00921574,  0.080351  , -0.02739344,  0.00197626,\n",
       "        0.12395329,  0.09318297, -0.07751956,  0.20624001, -0.04554509,\n",
       "        0.17160976, -0.04968931,  0.08846218,  0.03056484], dtype=float32)"
      ]
     },
     "metadata": {
      "after": [],
      "completed": "2018-05-03T23:46:38.441150",
      "data": {},
      "engine_id": 0,
      "engine_uuid": "853c4a69-aa2ddd1cb145a99f0bbcebd0",
      "error": null,
      "execute_input": "\n# Inspect the model weights. Are they the same?\nmodel.get_weights()[0][0,0,0]",
      "execute_result": {
       "data": {
        "text/plain": "array([ 0.0359285 ,  0.14070866, -0.03147585, -0.11712615,  0.13835126,\n        0.04000098, -0.0848937 , -0.04932515,  0.19469474,  0.06563387,\n       -0.08081567, -0.07108123,  0.00721872,  0.13346985,  0.09964314,\n       -0.06333202,  0.01039529,  0.04151731,  0.19975036,  0.0468534 ,\n        0.20597549,  0.05762145, -0.1233936 , -0.00195075, -0.0102873 ,\n        0.16713418,  0.20150925, -0.07612296, -0.05693804,  0.10351744,\n        0.13675688,  0.0919622 ,  0.05040056, -0.05369506,  0.15337764,\n        0.00970458,  0.05666427, -0.06198144,  0.0622775 ,  0.06317747,\n        0.06043039, -0.01114823, -0.07662099, -0.01320019, -0.10590444,\n       -0.06452797,  0.12556276,  0.14275475,  0.09189197,  0.0967575 ,\n       -0.03720548, -0.00921574,  0.080351  , -0.02739344,  0.00197626,\n        0.12395329,  0.09318297, -0.07751956,  0.20624001, -0.04554509,\n        0.17160976, -0.04968931,  0.08846218,  0.03056484], dtype=float32)"
       },
       "execution_count": 28,
       "metadata": {}
      },
      "follow": [],
      "msg_id": "f769d489-032a3fd00539a92635f7f921",
      "outputs": [],
      "received": "2018-05-03T23:46:38.446980",
      "started": "2018-05-03T23:46:38.334361",
      "status": "ok",
      "stderr": "",
      "stdout": "",
      "submitted": "2018-05-03T23:46:38.321657"
     },
     "output_type": "display_data"
    },
    {
     "data": {
      "text/plain": [
       "\u001b[0;31mOut[1:28]: \u001b[0m\n",
       "array([ 0.03594369,  0.14102964, -0.03147377, -0.1175801 ,  0.13863148,\n",
       "        0.03990909, -0.08479712, -0.04956196,  0.19500998,  0.06632189,\n",
       "       -0.08059914, -0.07135448,  0.00669504,  0.13377933,  0.0999418 ,\n",
       "       -0.06358718,  0.01047185,  0.04175984,  0.20004192,  0.04701871,\n",
       "        0.20626186,  0.05782318, -0.12334074, -0.00207194, -0.01032731,\n",
       "        0.16741832,  0.20178348, -0.07604172, -0.05747492,  0.10368998,\n",
       "        0.1370194 ,  0.09211288,  0.05079716, -0.05365899,  0.15360837,\n",
       "        0.00913636,  0.05697636, -0.06250375,  0.06246425,  0.06321386,\n",
       "        0.06073523, -0.01094039, -0.07657057, -0.01327501, -0.1058809 ,\n",
       "       -0.06461395,  0.12592152,  0.14299646,  0.09217875,  0.09654881,\n",
       "       -0.03697995, -0.0090028 ,  0.08081379, -0.02792548,  0.00210617,\n",
       "        0.12427051,  0.09343056, -0.07765009,  0.20651025, -0.045669  ,\n",
       "        0.17190306, -0.05015682,  0.08824555,  0.0307135 ], dtype=float32)"
      ]
     },
     "metadata": {
      "after": [],
      "completed": "2018-05-03T23:46:38.438080",
      "data": {},
      "engine_id": 1,
      "engine_uuid": "4dd40188-c867320e95ef98ced9c211aa",
      "error": null,
      "execute_input": "\n# Inspect the model weights. Are they the same?\nmodel.get_weights()[0][0,0,0]",
      "execute_result": {
       "data": {
        "text/plain": "array([ 0.03594369,  0.14102964, -0.03147377, -0.1175801 ,  0.13863148,\n        0.03990909, -0.08479712, -0.04956196,  0.19500998,  0.06632189,\n       -0.08059914, -0.07135448,  0.00669504,  0.13377933,  0.0999418 ,\n       -0.06358718,  0.01047185,  0.04175984,  0.20004192,  0.04701871,\n        0.20626186,  0.05782318, -0.12334074, -0.00207194, -0.01032731,\n        0.16741832,  0.20178348, -0.07604172, -0.05747492,  0.10368998,\n        0.1370194 ,  0.09211288,  0.05079716, -0.05365899,  0.15360837,\n        0.00913636,  0.05697636, -0.06250375,  0.06246425,  0.06321386,\n        0.06073523, -0.01094039, -0.07657057, -0.01327501, -0.1058809 ,\n       -0.06461395,  0.12592152,  0.14299646,  0.09217875,  0.09654881,\n       -0.03697995, -0.0090028 ,  0.08081379, -0.02792548,  0.00210617,\n        0.12427051,  0.09343056, -0.07765009,  0.20651025, -0.045669  ,\n        0.17190306, -0.05015682,  0.08824555,  0.0307135 ], dtype=float32)"
       },
       "execution_count": 28,
       "metadata": {}
      },
      "follow": [],
      "msg_id": "74f86ec8-091461d14d09f30fb465423f",
      "outputs": [],
      "received": "2018-05-03T23:46:38.443037",
      "started": "2018-05-03T23:46:38.337736",
      "status": "ok",
      "stderr": "",
      "stdout": "",
      "submitted": "2018-05-03T23:46:38.335087"
     },
     "output_type": "display_data"
    },
    {
     "data": {
      "text/plain": [
       "\u001b[0;31mOut[2:28]: \u001b[0m\n",
       "array([ 0.03595275,  0.14103054, -0.03144496, -0.11758562,  0.13865495,\n",
       "        0.03993119, -0.08479556, -0.04956302,  0.19506116,  0.06634358,\n",
       "       -0.08059914, -0.07135468,  0.00670963,  0.13381214,  0.09994429,\n",
       "       -0.06357279,  0.01047078,  0.04178128,  0.20009483,  0.0470452 ,\n",
       "        0.20631383,  0.05783153, -0.12335784, -0.00208892, -0.01031001,\n",
       "        0.16744767,  0.20183524, -0.07604139, -0.05749213,  0.10373257,\n",
       "        0.13704225,  0.0921422 ,  0.05081956, -0.05365925,  0.1536581 ,\n",
       "        0.0091392 ,  0.05696901, -0.06249473,  0.06246135,  0.06322864,\n",
       "        0.06072824, -0.01093547, -0.07657141, -0.01327415, -0.1058815 ,\n",
       "       -0.06461382,  0.12594908,  0.14303385,  0.0921834 ,  0.09659387,\n",
       "       -0.03698721, -0.00899186,  0.08083027, -0.0279142 ,  0.00210904,\n",
       "        0.12429023,  0.09344826, -0.0776515 ,  0.20656236, -0.04568081,\n",
       "        0.1719402 , -0.05016229,  0.08825307,  0.0307228 ], dtype=float32)"
      ]
     },
     "metadata": {
      "after": [],
      "completed": "2018-05-03T23:46:38.441982",
      "data": {},
      "engine_id": 2,
      "engine_uuid": "56769a47-3f626b3f85cb173935f5ffc1",
      "error": null,
      "execute_input": "\n# Inspect the model weights. Are they the same?\nmodel.get_weights()[0][0,0,0]",
      "execute_result": {
       "data": {
        "text/plain": "array([ 0.03595275,  0.14103054, -0.03144496, -0.11758562,  0.13865495,\n        0.03993119, -0.08479556, -0.04956302,  0.19506116,  0.06634358,\n       -0.08059914, -0.07135468,  0.00670963,  0.13381214,  0.09994429,\n       -0.06357279,  0.01047078,  0.04178128,  0.20009483,  0.0470452 ,\n        0.20631383,  0.05783153, -0.12335784, -0.00208892, -0.01031001,\n        0.16744767,  0.20183524, -0.07604139, -0.05749213,  0.10373257,\n        0.13704225,  0.0921422 ,  0.05081956, -0.05365925,  0.1536581 ,\n        0.0091392 ,  0.05696901, -0.06249473,  0.06246135,  0.06322864,\n        0.06072824, -0.01093547, -0.07657141, -0.01327415, -0.1058815 ,\n       -0.06461382,  0.12594908,  0.14303385,  0.0921834 ,  0.09659387,\n       -0.03698721, -0.00899186,  0.08083027, -0.0279142 ,  0.00210904,\n        0.12429023,  0.09344826, -0.0776515 ,  0.20656236, -0.04568081,\n        0.1719402 , -0.05016229,  0.08825307,  0.0307228 ], dtype=float32)"
       },
       "execution_count": 28,
       "metadata": {}
      },
      "follow": [],
      "msg_id": "9994203a-91a98e02ba4903192bd22dca",
      "outputs": [],
      "received": "2018-05-03T23:46:38.444509",
      "started": "2018-05-03T23:46:38.341601",
      "status": "ok",
      "stderr": "",
      "stdout": "",
      "submitted": "2018-05-03T23:46:38.335481"
     },
     "output_type": "display_data"
    },
    {
     "data": {
      "text/plain": [
       "\u001b[0;31mOut[3:28]: \u001b[0m\n",
       "array([ 0.03599238,  0.14103489, -0.03146977, -0.11759035,  0.13866036,\n",
       "        0.03998362, -0.08479521, -0.0495626 ,  0.19506593,  0.06634719,\n",
       "       -0.08060362, -0.07135422,  0.00675255,  0.1338333 ,  0.09994949,\n",
       "       -0.06356803,  0.01047233,  0.04174615,  0.20010321,  0.04703918,\n",
       "        0.20632108,  0.05789309, -0.12335753, -0.00208309, -0.01031724,\n",
       "        0.16746059,  0.20184411, -0.07604092, -0.05749106,  0.10374303,\n",
       "        0.13704681,  0.09214494,  0.05081026, -0.05365882,  0.15366276,\n",
       "        0.00915343,  0.05697469, -0.06251232,  0.06246971,  0.06323055,\n",
       "        0.06073349, -0.01093503, -0.076571  , -0.01327649, -0.10588112,\n",
       "       -0.06461336,  0.12591305,  0.14304489,  0.09218711,  0.09658511,\n",
       "       -0.03699038, -0.00901619,  0.0808327 , -0.02791135,  0.00210935,\n",
       "        0.12430234,  0.09345107, -0.07765109,  0.2065683 , -0.04567585,\n",
       "        0.17194937, -0.05014611,  0.08831865,  0.03070764], dtype=float32)"
      ]
     },
     "metadata": {
      "after": [],
      "completed": "2018-05-03T23:46:38.450505",
      "data": {},
      "engine_id": 3,
      "engine_uuid": "66b1f098-db09dd5aa56d73bc60e2a534",
      "error": null,
      "execute_input": "\n# Inspect the model weights. Are they the same?\nmodel.get_weights()[0][0,0,0]",
      "execute_result": {
       "data": {
        "text/plain": "array([ 0.03599238,  0.14103489, -0.03146977, -0.11759035,  0.13866036,\n        0.03998362, -0.08479521, -0.0495626 ,  0.19506593,  0.06634719,\n       -0.08060362, -0.07135422,  0.00675255,  0.1338333 ,  0.09994949,\n       -0.06356803,  0.01047233,  0.04174615,  0.20010321,  0.04703918,\n        0.20632108,  0.05789309, -0.12335753, -0.00208309, -0.01031724,\n        0.16746059,  0.20184411, -0.07604092, -0.05749106,  0.10374303,\n        0.13704681,  0.09214494,  0.05081026, -0.05365882,  0.15366276,\n        0.00915343,  0.05697469, -0.06251232,  0.06246971,  0.06323055,\n        0.06073349, -0.01093503, -0.076571  , -0.01327649, -0.10588112,\n       -0.06461336,  0.12591305,  0.14304489,  0.09218711,  0.09658511,\n       -0.03699038, -0.00901619,  0.0808327 , -0.02791135,  0.00210935,\n        0.12430234,  0.09345107, -0.07765109,  0.2065683 , -0.04567585,\n        0.17194937, -0.05014611,  0.08831865,  0.03070764], dtype=float32)"
       },
       "execution_count": 28,
       "metadata": {}
      },
      "follow": [],
      "msg_id": "b7df081a-af81fe3d2af50f308ab7d029",
      "outputs": [],
      "received": "2018-05-03T23:46:38.453653",
      "started": "2018-05-03T23:46:38.339944",
      "status": "ok",
      "stderr": "",
      "stdout": "",
      "submitted": "2018-05-03T23:46:38.335939"
     },
     "output_type": "display_data"
    }
   ],
   "source": [
    "%%px\n",
    "\n",
    "# Inspect the model weights. Are they the same?\n",
    "model.get_weights()[0][0,0,0]"
   ]
  },
  {
   "cell_type": "raw",
   "metadata": {},
   "source": [
    "def summarize_metrics(labels, outputs, threshold=0.5, weights=None):\n",
    "    preds = outputs > threshold\n",
    "    print('Metrics summaries with threshold of %.3f' % threshold)\n",
    "    print('Accuracy:   %.4f' % metrics.accuracy_score(labels, preds, sample_weight=weights))\n",
    "    print('Purity:     %.4f' % metrics.precision_score(labels, preds, sample_weight=weights))\n",
    "    print('Efficiency: %.4f' % metrics.recall_score(labels, preds, sample_weight=weights))\n",
    "\n",
    "def draw_roc(labels, outputs, weights=None, ax=None):\n",
    "    fpr, tpr, _ = metrics.roc_curve(labels, outputs, sample_weight=weights)\n",
    "    auc = metrics.roc_auc_score(labels, outputs, sample_weight=weights)\n",
    "    if ax is None:\n",
    "        fig, ax = plt.subplots()\n",
    "    ax.plot(fpr, tpr, label='CNN, AUC=%.3f' % auc)\n",
    "    ax.plot([0, 1], [0, 1], '--', label='Random')\n",
    "    ax.set_xlabel('False positive rate')\n",
    "    ax.set_ylabel('True positive rate')\n",
    "    ax.legend(loc=0)"
   ]
  },
  {
   "cell_type": "raw",
   "metadata": {},
   "source": [
    "test_output = model.predict(test_input)\n",
    "test_output = test_output.squeeze(-1)"
   ]
  },
  {
   "cell_type": "raw",
   "metadata": {},
   "source": [
    "# Unweighted results\n",
    "summarize_metrics(test_labels, test_output)"
   ]
  },
  {
   "cell_type": "raw",
   "metadata": {},
   "source": [
    "# Weighted results\n",
    "summarize_metrics(test_labels, test_output, weights=test_weights)"
   ]
  },
  {
   "cell_type": "raw",
   "metadata": {},
   "source": [
    "fig, axs = plt.subplots(1, 2, figsize=(9,4))\n",
    "draw_roc(test_labels, test_output, ax=axs[0])\n",
    "draw_roc(test_labels, test_output, ax=axs[1], weights=test_weights)\n",
    "axs[0].set_xlim([0, 0.01])\n",
    "axs[0].set_title('Unweighted')\n",
    "axs[1].set_xlim([0, 0.01])\n",
    "axs[1].set_title('Weighted')"
   ]
  },
  {
   "cell_type": "raw",
   "metadata": {},
   "source": [
    "# Visualize the model output\n",
    "plt.figure()\n",
    "\n",
    "# Select real/fake sample model outputs\n",
    "real_idx = test_labels > 0.5\n",
    "fake_idx = (real_idx == False)\n",
    "\n",
    "binning=dict(bins=100, range=(0, 1), log=True)\n",
    "plt.hist(test_output[fake_idx], weights=test_weights[fake_idx], label='Fake', **binning)\n",
    "plt.hist(test_output[real_idx], weights=test_weights[real_idx], label='Real', **binning)\n",
    "plt.legend(loc=0);"
   ]
  }
 ],
 "metadata": {
  "kernelspec": {
   "display_name": "Python 2, TF 1.8",
   "language": "python",
   "name": "tf-1.8.0rc1-py27"
  },
  "language_info": {
   "codemirror_mode": {
    "name": "ipython",
    "version": 2
   },
   "file_extension": ".py",
   "mimetype": "text/x-python",
   "name": "python",
   "nbconvert_exporter": "python",
   "pygments_lexer": "ipython2",
   "version": "2.7.14"
  }
 },
 "nbformat": 4,
 "nbformat_minor": 2
}
