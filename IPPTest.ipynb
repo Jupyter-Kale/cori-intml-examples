{
 "cells": [
  {
   "cell_type": "markdown",
   "metadata": {},
   "source": [
    "# Basic ipyparallel test example\n",
    "\n",
    "In this notebook we'll play around with ipyparallel for the sake of testing."
   ]
  },
  {
   "cell_type": "code",
   "execution_count": 2,
   "metadata": {},
   "outputs": [],
   "source": [
    "# System imports\n",
    "from __future__ import print_function\n",
    "from __future__ import division\n",
    "from __future__ import absolute_import\n",
    "\n",
    "# External imports\n",
    "import ipyparallel as ipp"
   ]
  },
  {
   "cell_type": "markdown",
   "metadata": {},
   "source": [
    "## Connect to an ipp cluster"
   ]
  },
  {
   "cell_type": "code",
   "execution_count": 3,
   "metadata": {},
   "outputs": [],
   "source": [
    "c = ipp.Client()"
   ]
  },
  {
   "cell_type": "code",
   "execution_count": 6,
   "metadata": {},
   "outputs": [
    {
     "data": {
      "text/plain": [
       "[0, 1, 2, 3, 4, 5, 6, 7]"
      ]
     },
     "execution_count": 6,
     "metadata": {},
     "output_type": "execute_result"
    }
   ],
   "source": [
    "c.ids"
   ]
  },
  {
   "cell_type": "markdown",
   "metadata": {},
   "source": [
    "## Test MPI\n",
    "\n",
    "This requires that the engines were started with MPI."
   ]
  },
  {
   "cell_type": "code",
   "execution_count": 17,
   "metadata": {},
   "outputs": [
    {
     "name": "stdout",
     "output_type": "stream",
     "text": [
      "[stdout:0] Hello world from nid00010, MPI rank 7/8\n",
      "[stdout:1] Hello world from nid00010, MPI rank 4/8\n",
      "[stdout:2] Hello world from nid00010, MPI rank 6/8\n",
      "[stdout:3] Hello world from nid00010, MPI rank 3/8\n",
      "[stdout:4] Hello world from nid00010, MPI rank 5/8\n",
      "[stdout:5] Hello world from nid00010, MPI rank 0/8\n",
      "[stdout:6] Hello world from nid00010, MPI rank 1/8\n",
      "[stdout:7] Hello world from nid00010, MPI rank 2/8\n"
     ]
    }
   ],
   "source": [
    "%%px\n",
    "\n",
    "# Import modules in the worker engines\n",
    "import socket\n",
    "from mpi4py import MPI\n",
    "mpi = MPI.COMM_WORLD\n",
    "\n",
    "# Print a message\n",
    "print('Hello world from %s, MPI rank %i/%i' %\n",
    "      (socket.gethostname(), mpi.rank, mpi.size))"
   ]
  }
 ],
 "metadata": {
  "kernelspec": {
   "display_name": "Python 3 ipp",
   "language": "python",
   "name": "python3-ipp"
  },
  "language_info": {
   "codemirror_mode": {
    "name": "ipython",
    "version": 3
   },
   "file_extension": ".py",
   "mimetype": "text/x-python",
   "name": "python",
   "nbconvert_exporter": "python",
   "pygments_lexer": "ipython3",
   "version": "3.6.1"
  }
 },
 "nbformat": 4,
 "nbformat_minor": 2
}
